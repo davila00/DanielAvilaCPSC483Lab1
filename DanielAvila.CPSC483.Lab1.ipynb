{
  "cells": [
    {
      "cell_type": "markdown",
      "metadata": {
        "id": "be6QWnmo_90p"
      },
      "source": [
        "## Daniel Avila\n",
        "<b>Understanding Feedforward Neural Network</b>"
      ]
    },
    {
      "cell_type": "markdown",
      "metadata": {
        "id": "q17Fv-S-AFPw"
      },
      "source": [
        "In this lab, you are required to build 3 Feedforward Neural Networks to simulate function\n",
        "<br> $y = xsin( \\frac {x^2} {300})$\n",
        "<br> in range x: +-100\n",
        "<br> You need to have a different structure for each model you build."
      ]
    },
    {
      "cell_type": "markdown",
      "metadata": {
        "id": "5qw2_zjxqTnq"
      },
      "source": [
        "##Requirements"
      ]
    },
    {
      "cell_type": "markdown",
      "metadata": {
        "id": "3aQW7EXPFs5p"
      },
      "source": [
        "1 You are required to finish each part below following instructions.\n",
        "<br>2 You may work on native py files, but your work needs to include same documentation. You may use pytorch or tensorflow keras.\n",
        "<br>3 You may work in a group of 2.\n",
        "\n",
        "<br><b>For submission, submit a link to your github repo</b>\n",
        "<br>Each student in the group must all submit."
      ]
    },
    {
      "cell_type": "markdown",
      "metadata": {
        "id": "QxFzMiVTFpYq"
      },
      "source": [
        "#### Part 1 data preparation\n",
        "\n",
        "In the cell below, generate training data for your model.\n",
        "<br> Generate a decent amount of training data in the interval of x.\n",
        "<br>\n",
        "<br>All data need to be separated by the same distance.\n"
      ]
    },
    {
      "cell_type": "code",
      "execution_count": 19,
      "metadata": {
        "id": "YJs8FWjw9TC8",
        "trusted": true
      },
      "outputs": [],
      "source": [
        "import numpy as np\n",
        "\n",
        "def generate_data(num_points=1000):\n",
        "    xValues = np.linspace(-100, 100, num_points)\n",
        "    yValues = xValues * np.sin(xValues ** 2 / 300)\n",
        "    return xValues, yValues\n",
        "\n",
        "#generate the data\n",
        "x_train, y_train = generate_data()\n",
        "\n",
        "\n"
      ]
    },
    {
      "cell_type": "markdown",
      "metadata": {
        "id": "zgCswSdCJGNF"
      },
      "source": [
        "#### Part 2 build models\n",
        "\n",
        "In the cells below, build your models and train it with data from part1.\n",
        "<br>You need to split your training data to two parts. With 40% used in training, and 60% used in test.\n",
        "\n",
        "<br>You may do this with sklearn's train_test_split() or keras' validation_split together with train_test_split()."
      ]
    },
    {
      "cell_type": "code",
      "execution_count": null,
      "metadata": {
        "id": "nT4G0XhGJHXF",
        "trusted": true
      },
      "outputs": [],
      "source": [
        "# model 1\n",
        "import tensorflow as tf\n",
        "from tensorflow import keras\n",
        "from sklearn.model_selection import train_test_split\n",
        "\n",
        "def modelBuild_1():\n",
        "    model = keras.Sequential([keras.layers.Dense(64, activation='relu', input_shape=(1,)),\n",
        "                              keras.layers.Dense(64, activation='relu'),\n",
        "                              keras.layers.Dense(1)\n",
        "                             ])\n",
        "    model.compile(optimizer='adam', loss='mse', metrics=['mae'])\n",
        "    return model\n",
        "\n",
        "#splitting\n",
        "x_train, y_train, x_test, y_test = train_test_split(x_train, y_train, test_size=0.6)\n",
        "\n",
        "#training\n",
        "model_1 = modelBuild_1()\n",
        "history_1 = model_1.fit(x_train, y_train, epochs=100, validation_split=0.2, verbose=0)\n"
      ]
    },
    {
      "cell_type": "code",
      "execution_count": null,
      "metadata": {
        "id": "dNKmqDxQJyQ2",
        "trusted": true
      },
      "outputs": [],
      "source": [
        "# model 2\n",
        "import tensorflow as tf\n",
        "from tensorflow import keras\n",
        "from sklearn.model_selection import train_test_split\n",
        "\n",
        "def modelBuild_2():\n",
        "    model = keras.Sequential([keras.layers.Dense(128, activation='relu', input_shape=(1,)),\n",
        "                              keras.layers.Dense(64, activation='relu'),\n",
        "                              keras.layers.Dense(32, activation='relu'),\n",
        "                              keras.layers.Dense(1)\n",
        "                             ])\n",
        "    model.compile(optimizer='adam', loss='mse', metrics=['mae'])\n",
        "    return model\n",
        "\n",
        "#splitting\n",
        "x_train, y_train, x_test, y_test = train_test_split(x_train, y_train, test_size=0.6)\n",
        "\n",
        "#training\n",
        "model_2 = modelBuild_2()\n",
        "history_2 = model_2.fit(x_train, y_train, epochs=100, validation_split=0.2, verbose=0)\n"
      ]
    },
    {
      "cell_type": "code",
      "execution_count": null,
      "metadata": {
        "id": "bJpwU6v0JyWT",
        "trusted": true
      },
      "outputs": [],
      "source": [
        "# model 3\n",
        "import tensorflow as tf\n",
        "from tensorflow import keras\n",
        "from sklearn.model_selection import train_test_split\n",
        "\n",
        "def modelBuild_3():\n",
        "    model = keras.Sequential([keras.layers.Dense(32, activation = 'relu', input_shape = (1,)),\n",
        "                              keras.layers.Dense(64, activation = 'relu'),\n",
        "                              keras.layers.Dense(32, activation = 'relu'),\n",
        "                              keras.layers.Dense(1)\n",
        "                             ])\n",
        "    model.compile(optimizer = 'adam', loss = 'mse', metrics = ['mae'])\n",
        "    return model\n",
        "\n",
        "#splitting\n",
        "x_train, y_train, x_test, y_test = train_test_split(x_train, y_train, test_size = 0.6)\n",
        "\n",
        "#training\n",
        "model_3 = modelBuild_3()\n",
        "history_3 = model_3.fit(x_train, y_train, epochs = 100, validation_split = 0.2, verbose = 0)\n"
      ]
    },
    {
      "cell_type": "markdown",
      "metadata": {
        "id": "pzJ2ZNGKJ9oF"
      },
      "source": [
        "#### Part 3 model evaluation\n",
        "\n",
        "In the cells below, eval your model with training data, test data ( with model.evaluate( ) ), and plot your predict result on the same plot with the plot of goal function."
      ]
    },
    {
      "cell_type": "code",
      "execution_count": null,
      "metadata": {
        "id": "MCHdT5BxNMnN",
        "trusted": true
      },
      "outputs": [],
      "source": [
        "import matplotlib.pyplot as plt\n",
        "\n",
        "def evaluateModel(model, x_test, y_test):\n",
        "    loss, mae = model.evaluate(x_test, y_test, verbose = 0)\n",
        "    print(\"Test Loss: \", loss)\n",
        "    print(\"Test MAE: \", mae)\n",
        "\n",
        "#evaluate models\n",
        "print(\"Model 1: \")\n",
        "evaluateModel(model_1, x_test, y_test)\n",
        "print(\"\\n\")\n",
        "print(\"Model 2: \")\n",
        "evaluateModel(model_2, x_test, y_test)\n",
        "print(\"\\n\")\n",
        "print(\"Model 3: \")\n",
        "evaluateModel(model_3, x_test, y_test)\n",
        "\n",
        "#plotting predictions\n",
        "def plotting(model, xValues, yValues, title):\n",
        "    predictions = model.predict(xValues)\n",
        "    plt.figure(figsize = (10,6))\n",
        "    plt.scatter(xValues, yValues, label = 'Actual Data')\n",
        "    plt.plot(xValues, predictions, color = 'red', label = 'Predictions')\n",
        "    plt.title(title)\n",
        "    plt.legend\n",
        "    plt.show()\n",
        "\n",
        "plotting(model_1, x_test, y_test, title = \"Model 1 Predictions\")\n",
        "plotting(model_2, x_test, y_test, title = \"Model 2 Predictions\")\n",
        "plotting(model_3, x_test, y_test, title = \"Model 3 Predictions\")\n"
      ]
    },
    {
      "cell_type": "markdown",
      "metadata": {
        "id": "t3XlrMjvNPIq"
      },
      "source": [
        "#### Part 4 get model output and feedforward by yourself\n",
        "\n",
        "Recall how a Feedforward Neural Network gets its output. Now choose your model with highest accuracy, and call get_weights( ) to get its weights and bias.\n",
        "<br> Hint: bias and weights have different dimensions in most cases. Try to guess which index represent bias before you look it up on the internet.\n",
        "\n",
        "<br> Afterwards, choose 5 data from your training dataset, do all the necessary calculations (with program of course), and get the output of your model. Compare it to the model.predict( ) result.\n",
        "<br> They should be identical for the first several digitals, if not for all digits."
      ]
    },
    {
      "cell_type": "code",
      "execution_count": null,
      "metadata": {
        "id": "QlJCicHTOndf",
        "trusted": true
      },
      "outputs": [],
      "source": [
        "import numpy as np\n",
        "\n",
        "best_model = model_2\n",
        "weights, biases = best_model.get_weights()\n",
        "print(\"Weights Shape: \", weights.shape)\n",
        "print(\"Biases Shape: \", biases.shape)\n",
        "\n",
        "#5 data points\n",
        "random_index = np.random.choice(len(x_train), 5)\n",
        "x_sample = x_train[random_index]\n",
        "output_manual = np.dot(x_sample, weights[0]) + biases[0]\n",
        "output_manual = np.dot(output_manual, weights[2]) + biases[2]\n",
        "print(\"Calculated Output: \", output_manual)\n",
        "\n",
        "#compare\n",
        "predictions = best_model.predict(x_sample)\n",
        "print(\"Model Predictions: \", predictions)\n",
        "\n"
      ]
    }
  ],
  "metadata": {
    "colab": {
      "provenance": []
    },
    "kernelspec": {
      "display_name": "Python 3",
      "language": "python",
      "name": "python3"
    },
    "language_info": {
      "codemirror_mode": {
        "name": "ipython",
        "version": 3
      },
      "file_extension": ".py",
      "mimetype": "text/x-python",
      "name": "python",
      "nbconvert_exporter": "python",
      "pygments_lexer": "ipython3",
      "version": "3.11.8"
    }
  },
  "nbformat": 4,
  "nbformat_minor": 4
}
